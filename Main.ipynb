{
 "cells": [
  {
   "cell_type": "code",
   "execution_count": 1,
   "id": "57d644a6",
   "metadata": {},
   "outputs": [],
   "source": [
    "#Import the library\n",
    "import pandas as pd\n",
    "import numpy as np"
   ]
  },
  {
   "cell_type": "code",
   "execution_count": 2,
   "id": "8cc1c66c",
   "metadata": {},
   "outputs": [],
   "source": [
    "#Import train Dataset\n",
    "dataset1 = pd.read_csv('train.csv')\n",
    "dataset1 = dataset1.drop([\"PassengerId\",'Name','Cabin','Ticket'],axis=1)\n",
    "dataset1 = dataset1.dropna()\n",
    "dataset1.replace('male', 1, inplace = True) \n",
    "dataset1.replace('female', 0, inplace = True)\n",
    "x_train = dataset1.iloc[:,1:].values\n",
    "y_train = dataset1.iloc[:,0].values"
   ]
  },
  {
   "cell_type": "code",
   "execution_count": 3,
   "id": "748fee33",
   "metadata": {},
   "outputs": [],
   "source": [
    "#Import test Dataset\n",
    "dataset2 = pd.read_csv('test.csv')\n",
    "dataset2 = dataset2.drop(['PassengerId','Name','Cabin','Ticket'],axis=1)\n",
    "dataset2 = dataset2.dropna()\n",
    "dataset2.replace('male', 1, inplace = True) \n",
    "dataset2.replace('female', 0, inplace = True)\n",
    "x_test = dataset2.iloc[:,1:].values\n",
    "y_test = dataset2.iloc[:,0].values"
   ]
  },
  {
   "cell_type": "code",
   "execution_count": null,
   "id": "8b68bdc4",
   "metadata": {},
   "outputs": [],
   "source": [
    "# #Take Care of missing data\n",
    "# from sklearn.impute import SimpleImputer\n",
    "# imputer = SimpleImputer(missing_values=np.nan, strategy='mean')\n",
    "# imputer.fit(x_train[:,2:3])"
   ]
  },
  {
   "cell_type": "code",
   "execution_count": null,
   "id": "0450c746",
   "metadata": {},
   "outputs": [],
   "source": [
    "# #Take Care of missing data\n",
    "# from sklearn.impute import SimpleImputer\n",
    "# imputer = SimpleImputer(missing_values=np.nan, strategy='mean')\n",
    "# imputer.fit(x_test[:,2:3])"
   ]
  },
  {
   "cell_type": "code",
   "execution_count": 5,
   "id": "82497de4",
   "metadata": {},
   "outputs": [
    {
     "name": "stderr",
     "output_type": "stream",
     "text": [
      "C:\\ProgramData\\Anaconda3\\lib\\site-packages\\sklearn\\preprocessing\\_encoders.py:395: DeprecationWarning: `np.int` is a deprecated alias for the builtin `int`. To silence this warning, use `int` by itself. Doing this will not modify any behavior and is safe. When replacing `np.int`, you may wish to use e.g. `np.int64` or `np.int32` to specify the precision. If you wish to review your current use, check the release note link for additional information.\n",
      "Deprecated in NumPy 1.20; for more details and guidance: https://numpy.org/devdocs/release/1.20.0-notes.html#deprecations\n",
      "  check_array(X, dtype=np.int)\n",
      "C:\\ProgramData\\Anaconda3\\lib\\site-packages\\sklearn\\preprocessing\\_encoders.py:110: DeprecationWarning: `np.int` is a deprecated alias for the builtin `int`. To silence this warning, use `int` by itself. Doing this will not modify any behavior and is safe. When replacing `np.int`, you may wish to use e.g. `np.int64` or `np.int32` to specify the precision. If you wish to review your current use, check the release note link for additional information.\n",
      "Deprecated in NumPy 1.20; for more details and guidance: https://numpy.org/devdocs/release/1.20.0-notes.html#deprecations\n",
      "  X_int = np.zeros((n_samples, n_features), dtype=np.int)\n",
      "C:\\ProgramData\\Anaconda3\\lib\\site-packages\\sklearn\\preprocessing\\_encoders.py:111: DeprecationWarning: `np.bool` is a deprecated alias for the builtin `bool`. To silence this warning, use `bool` by itself. Doing this will not modify any behavior and is safe. If you specifically wanted the numpy scalar type, use `np.bool_` here.\n",
      "Deprecated in NumPy 1.20; for more details and guidance: https://numpy.org/devdocs/release/1.20.0-notes.html#deprecations\n",
      "  X_mask = np.ones((n_samples, n_features), dtype=np.bool)\n"
     ]
    }
   ],
   "source": [
    "#Encode Categorical data\n",
    "from sklearn.compose import ColumnTransformer\n",
    "from sklearn.preprocessing import OneHotEncoder, LabelEncoder\n",
    "ct = ColumnTransformer(transformers=[('encode', OneHotEncoder(sparse=False), [-1])], remainder = 'passthrough')\n",
    "x_train = np.array(ct.fit_transform(x_train))\n",
    "le = LabelEncoder()\n",
    "y_train = le.fit_transform(y_train)"
   ]
  },
  {
   "cell_type": "code",
   "execution_count": null,
   "id": "0cb7480d",
   "metadata": {},
   "outputs": [],
   "source": [
    "#Encode Categorical data\n",
    "from sklearn.compose import ColumnTransformer\n",
    "from sklearn.preprocessing import OneHotEncoder, LabelEncoder\n",
    "ct = ColumnTransformer(transformers=[('encode', OneHotEncoder(), [5])], remainder = 'passthrough')\n",
    "x_test = np.array(ct.fit_transform(x_test))\n",
    "le = LabelEncoder()\n",
    "y_test = le.fit_transform(y_test)"
   ]
  },
  {
   "cell_type": "code",
   "execution_count": 6,
   "id": "69823ecc",
   "metadata": {},
   "outputs": [
    {
     "data": {
      "text/plain": [
       "array([[0.0, 0.0, 1.0, ..., 1, 0, 7.25],\n",
       "       [1.0, 0.0, 0.0, ..., 1, 0, 71.2833],\n",
       "       [0.0, 0.0, 1.0, ..., 0, 0, 7.925],\n",
       "       ...,\n",
       "       [0.0, 0.0, 1.0, ..., 0, 0, 30.0],\n",
       "       [1.0, 0.0, 0.0, ..., 0, 0, 30.0],\n",
       "       [0.0, 1.0, 0.0, ..., 0, 0, 7.75]], dtype=object)"
      ]
     },
     "execution_count": 6,
     "metadata": {},
     "output_type": "execute_result"
    }
   ],
   "source": [
    "x_train"
   ]
  },
  {
   "cell_type": "code",
   "execution_count": null,
   "id": "b80c2016",
   "metadata": {},
   "outputs": [],
   "source": []
  }
 ],
 "metadata": {
  "kernelspec": {
   "display_name": "Python 3",
   "language": "python",
   "name": "python3"
  },
  "language_info": {
   "codemirror_mode": {
    "name": "ipython",
    "version": 3
   },
   "file_extension": ".py",
   "mimetype": "text/x-python",
   "name": "python",
   "nbconvert_exporter": "python",
   "pygments_lexer": "ipython3",
   "version": "3.7.4"
  }
 },
 "nbformat": 4,
 "nbformat_minor": 5
}
